{
 "cells": [
  {
   "cell_type": "markdown",
   "id": "8cdbe54c",
   "metadata": {},
   "source": [
    "# 5.1"
   ]
  },
  {
   "cell_type": "code",
   "execution_count": 1,
   "id": "f3fe118d",
   "metadata": {},
   "outputs": [
    {
     "name": "stdout",
     "output_type": "stream",
     "text": [
      "Monte Carlo estimate: 1.687728\n",
      "95% confidence interval: (1.598288, 1.777168)\n"
     ]
    }
   ],
   "source": [
    "import numpy as np\n",
    "from scipy.stats import norm  \n",
    "\n",
    "def monte_carlo_exp_integral(n=100, seed=None, alpha=0.05):\n",
    "    rng = np.random.default_rng(seed)\n",
    "    x = rng.uniform(0.0, 1.0, size=n)\n",
    "    y = np.exp(x)\n",
    "\n",
    "    mu_hat = y.mean()\n",
    "    se = y.std(ddof=1) / np.sqrt(n)        \n",
    "    z = norm.ppf(1 - alpha / 2)          \n",
    "    ci = (mu_hat - z * se, mu_hat + z * se)\n",
    "    return mu_hat, ci\n",
    "\n",
    "if __name__ == \"__main__\":\n",
    "    estimate, (lower, upper) = monte_carlo_exp_integral(n=100, seed=42)\n",
    "    print(f\"Monte Carlo estimate: {estimate:.6f}\")\n",
    "    print(f\"95% confidence interval: ({lower:.6f}, {upper:.6f})\")"
   ]
  },
  {
   "cell_type": "markdown",
   "id": "e476a082",
   "metadata": {},
   "source": [
    "# 5.2"
   ]
  },
  {
   "cell_type": "code",
   "execution_count": 2,
   "id": "8727e4b9",
   "metadata": {},
   "outputs": [
    {
     "name": "stdout",
     "output_type": "stream",
     "text": [
      "Antithetic Monte Carlo estimate: 1.714106\n",
      "95% confidence interval: (1.698623, 1.729589)\n"
     ]
    }
   ],
   "source": [
    "import numpy as np\n",
    "from scipy.stats import norm  \n",
    "\n",
    "def antithetic_exp_integral(n_pairs=50, seed=None, alpha=0.05):\n",
    "    rng = np.random.default_rng(seed)\n",
    "    u = rng.uniform(0.0, 1.0, size=n_pairs)  \n",
    "    y1 = np.exp(u)        \n",
    "    y2 = np.exp(1.0 - u)     \n",
    "    g  = 0.5 * (y1 + y2)    \n",
    "\n",
    "    mu_hat = g.mean()\n",
    "    se     = g.std(ddof=1) / np.sqrt(n_pairs)  \n",
    "    z      = norm.ppf(1.0 - alpha / 2.0)\n",
    "    ci     = (mu_hat - z * se, mu_hat + z * se)\n",
    "    return mu_hat, ci\n",
    "\n",
    "\n",
    "if __name__ == \"__main__\":\n",
    "    estimate, (lo, hi) = antithetic_exp_integral(n_pairs=50, seed=42)\n",
    "    print(f\"Antithetic Monte Carlo estimate: {estimate:.6f}\")\n",
    "    print(f\"95% confidence interval: ({lo:.6f}, {hi:.6f})\")\n"
   ]
  },
  {
   "cell_type": "markdown",
   "id": "b479a676",
   "metadata": {},
   "source": [
    "# 5.3"
   ]
  },
  {
   "cell_type": "code",
   "execution_count": 3,
   "id": "0426a677",
   "metadata": {},
   "outputs": [
    {
     "name": "stdout",
     "output_type": "stream",
     "text": [
      "Control-variate estimate: 1.709709\n",
      "95% confidence interval: (1.698680, 1.720739)\n",
      "Estimated β: 1.6550\n"
     ]
    }
   ],
   "source": [
    "import numpy as np\n",
    "from scipy.stats import norm  \n",
    "\n",
    "def control_variate_exp_integral(n=100, seed=None, alpha=0.05):\n",
    "    rng = np.random.default_rng(seed)\n",
    "    u  = rng.uniform(0.0, 1.0, size=n)   \n",
    "    y  = np.exp(u)              \n",
    "    h  = u                            \n",
    "    mu_h = 0.5                         \n",
    "\n",
    "    cov_yh = np.cov(y, h, ddof=1)[0, 1]\n",
    "    var_h  = h.var(ddof=1)\n",
    "    beta_hat = cov_yh / var_h\n",
    "\n",
    "    g = y - beta_hat * (h - mu_h)\n",
    "\n",
    "    mu_hat = g.mean()\n",
    "    se     = g.std(ddof=1) / np.sqrt(n)  \n",
    "    z      = norm.ppf(1.0 - alpha / 2.0)\n",
    "    ci     = (mu_hat - z * se, mu_hat + z * se)\n",
    "    return mu_hat, ci, beta_hat\n",
    "\n",
    "\n",
    "if __name__ == \"__main__\":\n",
    "    estimate, (lo, hi), beta = control_variate_exp_integral(n=100, seed=42)\n",
    "    print(f\"Control-variate estimate: {estimate:.6f}\")\n",
    "    print(f\"95% confidence interval: ({lo:.6f}, {hi:.6f})\")\n",
    "    print(f\"Estimated β: {beta:.4f}\")\n"
   ]
  },
  {
   "cell_type": "markdown",
   "id": "3a757b64",
   "metadata": {},
   "source": [
    "# 5.4"
   ]
  },
  {
   "cell_type": "code",
   "execution_count": 4,
   "id": "3a3ecf44",
   "metadata": {},
   "outputs": [
    {
     "name": "stdout",
     "output_type": "stream",
     "text": [
      "Stratified estimate: 1.713285\n",
      "95% confidence interval: (1.703711, 1.722859)\n"
     ]
    }
   ],
   "source": [
    "import numpy as np\n",
    "from scipy.stats import norm  \n",
    "\n",
    "def stratified_exp_integral(n_total=100, n_strata=10, seed=None, alpha=0.05):\n",
    "    if n_total % n_strata:\n",
    "        raise ValueError(\"n_total must be divisible by n_strata for equal allocation.\")\n",
    "\n",
    "    rng = np.random.default_rng(seed)\n",
    "    m = n_strata\n",
    "    n_j = n_total // m        \n",
    "    w = 1.0 / m                    \n",
    "\n",
    "    mu_hat = 0.0                  \n",
    "    var_est = 0.0                  \n",
    "\n",
    "    for j in range(m):\n",
    "        a, b = j / m, (j + 1) / m              \n",
    "        u = rng.uniform(a, b, size=n_j)                 \n",
    "        y = np.exp(u)                               \n",
    "        mean_j = y.mean()\n",
    "        var_j  = y.var(ddof=1)\n",
    "\n",
    "        mu_hat += w * mean_j\n",
    "        var_est += w**2 * var_j / n_j\n",
    "\n",
    "    se = np.sqrt(var_est)\n",
    "    z  = norm.ppf(1.0 - alpha / 2.0)\n",
    "    ci = (mu_hat - z * se, mu_hat + z * se)\n",
    "    return mu_hat, ci\n",
    "\n",
    "\n",
    "if __name__ == \"__main__\":\n",
    "    estimate, (lo, hi) = stratified_exp_integral(n_total=100, n_strata=10, seed=42)\n",
    "    print(f\"Stratified estimate: {estimate:.6f}\")\n",
    "    print(f\"95% confidence interval: ({lo:.6f}, {hi:.6f})\")\n"
   ]
  },
  {
   "cell_type": "markdown",
   "id": "8ed308d6",
   "metadata": {},
   "source": [
    "# 5.5"
   ]
  },
  {
   "cell_type": "code",
   "execution_count": 5,
   "id": "16a9f6c0",
   "metadata": {},
   "outputs": [
    {
     "name": "stdout",
     "output_type": "stream",
     "text": [
      "Poisson arrivals (control variate):\n",
      "  Mean blocked fraction = 0.11865\n",
      "  95% CI = [0.11595, 0.12135]\n",
      "  β̂ (replications): -0.0654 (avg)\n"
     ]
    }
   ],
   "source": [
    "import numpy as np, heapq\n",
    "from scipy import stats\n",
    "\n",
    "def simulate_blocking_cv(\n",
    "    N_customers: int,\n",
    "    m_servers: int,\n",
    "    rng: np.random.Generator,\n",
    "    arrival_sampler,        \n",
    "    service_sampler         \n",
    "):\n",
    "    inter = arrival_sampler(rng, size=N_customers)\n",
    "    arrivals = np.cumsum(inter)\n",
    "\n",
    "    busy_pq = []         \n",
    "    Y = np.empty(N_customers, dtype=int)   \n",
    "\n",
    "    for k, t in enumerate(arrivals):\n",
    "        while busy_pq and busy_pq[0] <= t:    \n",
    "            heapq.heappop(busy_pq)\n",
    "        if len(busy_pq) < m_servers:\n",
    "            s = service_sampler(rng)          \n",
    "            heapq.heappush(busy_pq, t + s)\n",
    "            Y[k] = 0\n",
    "        else:\n",
    "            Y[k] = 1                        \n",
    "    return Y, inter\n",
    "\n",
    "def cv_estimate(Y, inter, mu_h=1.0):\n",
    "    Z = inter - mu_h\n",
    "    beta_hat = np.cov(Y, Z, ddof=1)[0, 1] / np.var(Z, ddof=1)\n",
    "    g = Y - beta_hat * Z\n",
    "    theta_hat = g.mean()\n",
    "    var_hat   = g.var(ddof=1) / len(g)       \n",
    "    return theta_hat, var_hat, beta_hat\n",
    "\n",
    "def exp_arrivals(rng, size, rate=1.0):\n",
    "    return rng.exponential(1 / rate, size=size)\n",
    "\n",
    "def exp_service(rng, mean=8.0):\n",
    "    return rng.exponential(mean)\n",
    "\n",
    "def poisson_exp_control_variates(\n",
    "    reps=10,             \n",
    "    N_customers=10_000,\n",
    "    m_servers=10,\n",
    "    seed0=42\n",
    "):\n",
    "    rng_master = np.random.default_rng(seed0)\n",
    "    est_cv  = []     \n",
    "    beta    = []        \n",
    "    for r in range(reps):\n",
    "        rng = np.random.default_rng(rng_master.integers(1 << 63))\n",
    "        Y, inter = simulate_blocking_cv(\n",
    "            N_customers, m_servers, rng,\n",
    "            arrival_sampler=lambda R, size: exp_arrivals(R, size, rate=1.0),\n",
    "            service_sampler=lambda R: exp_service(R, mean=8.0)\n",
    "        )\n",
    "        theta_hat, var_hat, beta_hat = cv_estimate(Y, inter)\n",
    "        est_cv.append(theta_hat)\n",
    "        beta.append(beta_hat)\n",
    "\n",
    "    est_cv  = np.array(est_cv)\n",
    "    beta    = np.array(beta)\n",
    "\n",
    "    mean_hat = est_cv.mean()\n",
    "    half_width = stats.t.ppf(0.975, df=reps-1) * est_cv.std(ddof=1) / np.sqrt(reps)\n",
    "    ci = (mean_hat - half_width, mean_hat + half_width)\n",
    "\n",
    "    print(\"Poisson arrivals (control variate):\")\n",
    "    print(f\"  Mean blocked fraction = {mean_hat:.5f}\")\n",
    "    print(f\"  95% CI = [{ci[0]:.5f}, {ci[1]:.5f}]\")\n",
    "    print(f\"  β̂ (replications): {beta.mean():.4f} (avg)\")\n",
    "\n",
    "    return est_cv, beta, ci\n",
    "\n",
    "\n",
    "if __name__ == \"__main__\":\n",
    "    poisson_exp_control_variates()\n"
   ]
  },
  {
   "cell_type": "markdown",
   "id": "dee1cef5",
   "metadata": {},
   "source": [
    "# 5.6"
   ]
  },
  {
   "cell_type": "code",
   "execution_count": 8,
   "id": "1caa85cb",
   "metadata": {},
   "outputs": [
    {
     "name": "stdout",
     "output_type": "stream",
     "text": [
      "----- Difference  Δ = P_block(HyperExp) − P_block(Poisson) -----\n",
      "Common random numbers:  Δ̂ = 0.01830,  95% CI = (0.013409692664540595, 0.02319030733545939)\n",
      "Independent streams :   Δ̂ = 0.01737,  95% CI = (0.013093778284172599, 0.021646221715827408)\n",
      "Variance ratio  Var_ind, Var_crn = 0.76\n"
     ]
    }
   ],
   "source": [
    "import numpy as np, heapq\n",
    "from scipy import stats\n",
    "\n",
    "def simulate_blocking_given_interarrivals(inter, m_servers, service_sampler, rng):\n",
    "    arrivals = np.cumsum(inter)\n",
    "    busy = []                  \n",
    "    blocked = 0\n",
    "\n",
    "    for t in arrivals:\n",
    "        while busy and busy[0] <= t:    \n",
    "            heapq.heappop(busy)\n",
    "        if len(busy) < m_servers:    \n",
    "            s = service_sampler(rng)\n",
    "            heapq.heappush(busy, t + s)\n",
    "        else:                     \n",
    "            blocked += 1\n",
    "    return blocked / len(inter)\n",
    "\n",
    "def exp_service(rng, mean=8.0):\n",
    "    return rng.exponential(mean)\n",
    "\n",
    "def compare_crn_vs_independent(\n",
    "    reps=10, N_customers=10_000, m_servers=10,\n",
    "    mean_service=8.0, seed0=12345\n",
    "):\n",
    "    p1, λ1, λ2 = 0.8, 0.8333, 5.0          \n",
    "    rng_master = np.random.default_rng(seed0)\n",
    "\n",
    "    diff_crn, diff_ind = [], []\n",
    "\n",
    "    for r in range(reps):\n",
    "        rng = np.random.default_rng(rng_master.integers(1 << 63))\n",
    "\n",
    "        U  = rng.random(N_customers)  \n",
    "        Uc = rng.random(N_customers)      \n",
    "\n",
    "        inter_poiss = -np.log(U)        \n",
    "        rate        = np.where(Uc < p1, λ1, λ2)\n",
    "        inter_hyp   = -np.log(U) / rate     \n",
    "\n",
    "        rng_s1 = np.random.default_rng(rng.integers(1 << 63))\n",
    "        rng_s2 = np.random.default_rng(rng.integers(1 << 63))\n",
    "\n",
    "        frac_poiss_crn = simulate_blocking_given_interarrivals(\n",
    "            inter_poiss, m_servers,\n",
    "            lambda R: exp_service(R, mean_service), rng_s1)\n",
    "\n",
    "        frac_hyp_crn = simulate_blocking_given_interarrivals(\n",
    "            inter_hyp, m_servers,\n",
    "            lambda R: exp_service(R, mean_service), rng_s2)\n",
    "\n",
    "        diff_crn.append(frac_hyp_crn - frac_poiss_crn)\n",
    "\n",
    "        rngA = np.random.default_rng(rng.integers(1 << 63))\n",
    "        rngB = np.random.default_rng(rng.integers(1 << 63))\n",
    "\n",
    "        inter_poiss_ind = rngA.exponential(1.0, N_customers)\n",
    "\n",
    "        Usel = rngB.random(N_customers)\n",
    "        Uexp = rngB.random(N_customers)\n",
    "        rate_ind = np.where(Usel < p1, λ1, λ2)\n",
    "        inter_hyp_ind = -np.log(Uexp) / rate_ind\n",
    "\n",
    "        rng_s3 = np.random.default_rng(rng.integers(1 << 63))\n",
    "        rng_s4 = np.random.default_rng(rng.integers(1 << 63))\n",
    "\n",
    "        frac_poiss_ind = simulate_blocking_given_interarrivals(\n",
    "            inter_poiss_ind, m_servers,\n",
    "            lambda R: exp_service(R, mean_service), rng_s3)\n",
    "\n",
    "        frac_hyp_ind = simulate_blocking_given_interarrivals(\n",
    "            inter_hyp_ind, m_servers,\n",
    "            lambda R: exp_service(R, mean_service), rng_s4)\n",
    "\n",
    "        diff_ind.append(frac_hyp_ind - frac_poiss_ind)\n",
    "\n",
    "    diff_crn = np.array(diff_crn)\n",
    "    diff_ind = np.array(diff_ind)\n",
    "\n",
    "    def t_ci(arr):\n",
    "        m  = arr.mean()\n",
    "        se = arr.std(ddof=1) / np.sqrt(len(arr))\n",
    "        hw = stats.t.ppf(0.975, len(arr)-1) * se\n",
    "        return m, (m - hw, m + hw), se**2\n",
    "\n",
    "    m_crn, ci_crn, var_crn = t_ci(diff_crn)\n",
    "    m_ind, ci_ind, var_ind = t_ci(diff_ind)\n",
    "\n",
    "    print(\"----- Difference  Δ = P_block(HyperExp) − P_block(Poisson) -----\")\n",
    "    print(f\"Common random numbers:  Δ̂ = {m_crn:.5f},  95% CI = {ci_crn}\")\n",
    "    print(f\"Independent streams :   Δ̂ = {m_ind:.5f},  95% CI = {ci_ind}\")\n",
    "    print(f\"Variance ratio  Var_ind, Var_crn = {var_ind/var_crn:.2f}\")\n",
    "\n",
    "    return (diff_crn, diff_ind, (m_crn, ci_crn), (m_ind, ci_ind))\n",
    "\n",
    "if __name__ == \"__main__\":\n",
    "    compare_crn_vs_independent()\n"
   ]
  },
  {
   "cell_type": "markdown",
   "id": "f98fd98e",
   "metadata": {},
   "source": [
    "# 5.7"
   ]
  },
  {
   "cell_type": "code",
   "execution_count": 9,
   "id": "59cbf6a0",
   "metadata": {},
   "outputs": [
    {
     "name": "stdout",
     "output_type": "stream",
     "text": [
      "\n",
      "Relative efficiency (RE) for a = 2\n",
      "         n     σ²           RE\n",
      "      1000    0.5        19.38\n",
      "      1000    1.0        16.31\n",
      "      1000    2.0        12.84\n",
      "     10000    0.5        27.91\n",
      "     10000    1.0        19.32\n",
      "     10000    2.0        10.85\n",
      "    100000    0.5        28.51\n",
      "    100000    1.0        18.52\n",
      "    100000    2.0        11.81\n",
      "\n",
      "Relative efficiency (RE) for a = 4\n",
      "         n     σ²           RE\n",
      "      1000    0.5         0.00\n",
      "      1000    1.0         0.00\n",
      "      1000    2.0         0.00\n",
      "     10000    0.5         0.00\n",
      "     10000    1.0         0.00\n",
      "     10000    2.0         0.00\n",
      "    100000    0.5      3362.77\n",
      "    100000    1.0      8897.03\n",
      "    100000    2.0      4407.96\n"
     ]
    }
   ],
   "source": [
    "import numpy as np\n",
    "\n",
    "def crude_mc_tail(a, n, rng):\n",
    "    \"\"\"Crude Monte-Carlo estimate and variance of P[Z>a].\"\"\"\n",
    "    z = rng.standard_normal(n)\n",
    "    w = (z > a).astype(float)\n",
    "    return w.mean(), w.var(ddof=1) / n\n",
    "\n",
    "\n",
    "def is_tail(a, n, sigma2, rng):\n",
    "    \"\"\"Importance-sampling estimate and variance with G ~ N(a, σ²).\"\"\"\n",
    "    z = rng.normal(loc=a, scale=np.sqrt(sigma2), size=n)\n",
    "\n",
    "    log_phi = -0.5 * z**2 - 0.5 * np.log(2 * np.pi)\n",
    "    log_g   = -0.5 * (z - a)**2 / sigma2 - 0.5 * np.log(2 * np.pi * sigma2)\n",
    "    w = np.exp(log_phi - log_g)\n",
    "\n",
    "    g = (z > a) * w\n",
    "    return g.mean(), g.var(ddof=1) / n\n",
    "\n",
    "def gather_re(a_vals, n_vals, sigma2_list, seed=42):\n",
    "    \"\"\"Return a dict keyed by (a, σ², n) containing relative efficiencies.\"\"\"\n",
    "    rng_master = np.random.default_rng(seed)\n",
    "    re = {}\n",
    "    for a in a_vals:\n",
    "        for s2 in sigma2_list:\n",
    "            for n in n_vals:\n",
    "                rng_cmc = np.random.default_rng(rng_master.integers(1 << 63))\n",
    "                rng_is  = np.random.default_rng(rng_master.integers(1 << 63))\n",
    "                _, var_cmc = crude_mc_tail(a, n, rng_cmc)\n",
    "                _, var_is  = is_tail(a, n, s2, rng_is)\n",
    "                re[(a, s2, n)] = var_cmc / var_is\n",
    "    return re\n",
    "\n",
    "\n",
    "if __name__ == \"__main__\":\n",
    "    a_values      = (2, 4)\n",
    "    n_values      = (10**3, 10**4, 10**5)\n",
    "    sigma2_values = (0.5, 1.0, 2.0)\n",
    "\n",
    "    re_dict = gather_re(a_values, n_values, sigma2_values)\n",
    "\n",
    "    for a in a_values:\n",
    "        print(f\"\\nRelative efficiency (RE) for a = {a}\")\n",
    "        print(f\"{'n':>10} {'σ²':>6} {'RE':>12}\")\n",
    "        for n in n_values:\n",
    "            for s2 in sigma2_values:\n",
    "                re = re_dict[(a, s2, n)]\n",
    "                print(f\"{n:10d} {s2:6.1f} {re:12.2f}\")\n"
   ]
  },
  {
   "cell_type": "markdown",
   "id": "bdb8af7d",
   "metadata": {},
   "source": [
    "# 5.8"
   ]
  },
  {
   "cell_type": "code",
   "execution_count": 10,
   "id": "10ce494f",
   "metadata": {},
   "outputs": [
    {
     "name": "stdout",
     "output_type": "stream",
     "text": [
      "0.00010386511979656906 0.24208754306069125 1.7192487994000307 0.2418107893142285\n"
     ]
    }
   ],
   "source": [
    "import numpy as np, math\n",
    "from scipy.optimize import minimize_scalar\n",
    "\n",
    "def var_is(lmbda):\n",
    "    num  = 1 - math.exp(-lmbda)\n",
    "    EY2  = num / lmbda * (math.exp(lmbda + 2) - 1) / (lmbda + 2)\n",
    "    return EY2 - (math.e - 1)**2         \n",
    "\n",
    "res = minimize_scalar(var_is, bounds=(1e-4, 20), method='bounded')\n",
    "lam_star = res.x                    \n",
    "var_star = res.fun\n",
    "\n",
    "rng = np.random.default_rng(42)\n",
    "n   = 100_000\n",
    "u   = rng.random(n)\n",
    "x   = -np.log(1 - u * (1 - np.exp(-lam_star))) / lam_star   \n",
    "weights = (1 - np.exp(-lam_star)) / lam_star * np.exp((lam_star + 1) * x)\n",
    "mc_mean, mc_var = weights.mean(), weights.var(ddof=1)\n",
    "\n",
    "print(lam_star, var_star, mc_mean, mc_var)\n"
   ]
  },
  {
   "cell_type": "markdown",
   "id": "26186fcb",
   "metadata": {},
   "source": [
    "# 5.9"
   ]
  },
  {
   "cell_type": "code",
   "execution_count": 13,
   "id": "1caf19b2",
   "metadata": {},
   "outputs": [
    {
     "name": "stdout",
     "output_type": "stream",
     "text": [
      "First few estimates: [1.66666667 1.66666667 1.66666667 1.66666667 1.66666667]\n",
      "Empirical variance over 1000 samples: 5.735e-32\n",
      "True mean μ = 1.6667\n"
     ]
    }
   ],
   "source": [
    "import numpy as np\n",
    "\n",
    "def sample_pareto(alpha, size, xm=1.0, rng=None):\n",
    "    if rng is None:\n",
    "        rng = np.random.default_rng()\n",
    "    u = rng.random(size)\n",
    "    return xm / (1 - u) ** (1 / alpha)\n",
    "\n",
    "def pareto_mean(alpha, xm=1.0):\n",
    "    if alpha <= 1:\n",
    "        raise ValueError(\"Mean is infinite when o ≤ 1\")\n",
    "    return alpha * xm / (alpha - 1)\n",
    "\n",
    "def sample_size_biased_pareto(alpha, size, xm=1.0, rng=None):\n",
    "    return sample_pareto(alpha - 1, size, xm, rng)\n",
    "\n",
    "def is_estimator_mean(alpha, n=10_000, xm=1.0, seed=0):\n",
    "    rng = np.random.default_rng(seed)\n",
    "    x_g = sample_size_biased_pareto(alpha, n, xm, rng)\n",
    "    mu = pareto_mean(alpha, xm)\n",
    "    w   = mu / x_g\n",
    "    y = x_g * w\n",
    "    return y, y.var(ddof=1)\n",
    "\n",
    "if __name__ == \"__main__\":\n",
    "    α  = 2.5\n",
    "    xm = 1.0\n",
    "    n  = 1000\n",
    "\n",
    "    y, var_emp = is_estimator_mean(α, n, xm, seed=42)\n",
    "    print(f\"First few estimates: {y[:5]}\")\n",
    "    print(f\"Empirical variance over {n} samples: {var_emp:.3e}\")\n",
    "    print(f\"True mean μ = {pareto_mean(α,xm):.4f}\")\n"
   ]
  }
 ],
 "metadata": {
  "kernelspec": {
   "display_name": "base",
   "language": "python",
   "name": "python3"
  },
  "language_info": {
   "codemirror_mode": {
    "name": "ipython",
    "version": 3
   },
   "file_extension": ".py",
   "mimetype": "text/x-python",
   "name": "python",
   "nbconvert_exporter": "python",
   "pygments_lexer": "ipython3",
   "version": "3.11.5"
  }
 },
 "nbformat": 4,
 "nbformat_minor": 5
}
