{
 "cells": [
  {
   "cell_type": "markdown",
   "id": "afddf4de",
   "metadata": {},
   "source": [
    "8.1\n"
   ]
  },
  {
   "cell_type": "code",
   "execution_count": 1,
   "id": "442c86c8",
   "metadata": {},
   "outputs": [
    {
     "name": "stdout",
     "output_type": "stream",
     "text": [
      "0.765 0.0042399882075307704\n"
     ]
    }
   ],
   "source": [
    "import numpy as np, random, math\n",
    "\n",
    "x = np.array([56,101,78,67,93,87,64,72,80,69])\n",
    "n, a, b, B = 10, -5, 5, 10_000\n",
    "random.seed(42); np.random.seed(42)\n",
    "mu_hat = x.mean()\n",
    "p_hat = np.mean([\n",
    "    a < np.random.choice(x, n, True).mean() - mu_hat < b\n",
    "    for _ in range(B)\n",
    "])\n",
    "se_hat = math.sqrt(p_hat*(1-p_hat)/B)\n",
    "print(p_hat, se_hat)"
   ]
  },
  {
   "cell_type": "markdown",
   "id": "7b862f58",
   "metadata": {},
   "source": [
    "8.2"
   ]
  },
  {
   "cell_type": "code",
   "execution_count": 2,
   "id": "b79a9a0d",
   "metadata": {},
   "outputs": [
    {
     "name": "stdout",
     "output_type": "stream",
     "text": [
      "S^2 (original sample)        : 34.3143\n",
      "Bootstrap Var(S^2) estimate  : 58.4442\n"
     ]
    }
   ],
   "source": [
    "import numpy as np\n",
    "\n",
    "# observed data\n",
    "x = np.array([5, 4, 9, 6, 21, 17, 11, 20, 7, 10, 21, 15, 13, 16, 8])\n",
    "n  = len(x)\n",
    "B  = 10_000                # number of bootstrap draws\n",
    "rng = np.random.default_rng(42)  # for reproducibility\n",
    "\n",
    "# original sample variance (ddof=1 gives the usual unbiased estimator)\n",
    "s2_hat = np.var(x, ddof=1)\n",
    "\n",
    "# bootstrap loop\n",
    "boot_s2 = np.empty(B)\n",
    "for b in range(B):\n",
    "    sample = rng.choice(x, n, replace=True)\n",
    "    boot_s2[b] = np.var(sample, ddof=1)\n",
    "\n",
    "# bootstrap estimate of Var(S^2)\n",
    "var_s2_hat = np.var(boot_s2, ddof=1)\n",
    "\n",
    "print(f\"S^2 (original sample)        : {s2_hat:.4f}\")\n",
    "print(f\"Bootstrap Var(S^2) estimate  : {var_s2_hat:.4f}\")\n"
   ]
  },
  {
   "cell_type": "markdown",
   "id": "68678d76",
   "metadata": {},
   "source": [
    "8.3"
   ]
  },
  {
   "cell_type": "code",
   "execution_count": 3,
   "id": "9f0e088c",
   "metadata": {},
   "outputs": [
    {
     "name": "stdout",
     "output_type": "stream",
     "text": [
      "(a) mean   = 5.1809\n",
      "(a) median = 1.9199\n",
      "\n",
      "(b) bootstrap Var(mean)   = 1.5963\n",
      "(c) bootstrap Var(median) = 0.0363\n",
      "\n",
      "(d) precision: 1/Var(mean)   = 0.6265\n",
      "    precision: 1/Var(median) = 27.5846\n"
     ]
    }
   ],
   "source": [
    "import numpy as np\n",
    "\n",
    "def median_with_bootstrap(data, r=100, rng=None):\n",
    "    \"\"\"\n",
    "    Return the sample median and its bootstrap variance estimate.\n",
    "\n",
    "    Parameters\n",
    "    ----------\n",
    "    data : array-like\n",
    "        Observed values.\n",
    "    r : int, default 100\n",
    "        Number of bootstrap resamples.\n",
    "    rng : numpy.random.Generator, optional\n",
    "        Random‐number generator for reproducibility.\n",
    "\n",
    "    Returns\n",
    "    -------\n",
    "    med : float\n",
    "        Sample median.\n",
    "    var_boot : float\n",
    "        Bootstrap estimate of Var(median).\n",
    "    \"\"\"\n",
    "    rng = rng or np.random.default_rng()\n",
    "    data = np.asarray(data)\n",
    "    n = len(data)\n",
    "\n",
    "    med = np.median(data)\n",
    "\n",
    "    # generate r bootstrap samples of size n\n",
    "    boot_samples = rng.choice(data, size=(r, n), replace=True)\n",
    "    boot_medians = np.median(boot_samples, axis=1)\n",
    "\n",
    "    var_boot = np.var(boot_medians, ddof=1)\n",
    "    return med, var_boot\n",
    "\n",
    "\n",
    "def var_bootstrap_mean(data, r=100, rng=None):\n",
    "    \"\"\"Bootstrap estimate of Var(sample mean).\"\"\"\n",
    "    rng = rng or np.random.default_rng()\n",
    "    data = np.asarray(data)\n",
    "    n = len(data)\n",
    "\n",
    "    boot_means = rng.choice(data, size=(r, n), replace=True).mean(axis=1)\n",
    "    return np.var(boot_means, ddof=1)\n",
    "\n",
    "\n",
    "# ----- simulate the data ----------------------------------------------------\n",
    "rng   = np.random.default_rng(42)  # fixed seed for repeatability\n",
    "N     = 200\n",
    "beta  = 1.0          # scale parameter\n",
    "k     = 1.05         # shape parameter\n",
    "data  = beta * (rng.pareto(k, N) + 1.0)   # Pareto(β=1, k=1.05)\n",
    "\n",
    "# ----- (a) sample mean and median -------------------------------------------\n",
    "sample_mean   = data.mean()\n",
    "sample_median, var_median_boot = median_with_bootstrap(data, r=100, rng=rng)\n",
    "\n",
    "# ----- (b) bootstrap Var(mean) ----------------------------------------------\n",
    "var_mean_boot = var_bootstrap_mean(data, r=100, rng=rng)\n",
    "\n",
    "# ----- (c) bootstrap Var(median) is already computed above -------------------\n",
    "\n",
    "# ----- (d) print everything --------------------------------------------------\n",
    "print(f\"(a) mean   = {sample_mean:.4f}\")\n",
    "print(f\"(a) median = {sample_median:.4f}\\n\")\n",
    "\n",
    "print(f\"(b) bootstrap Var(mean)   = {var_mean_boot:.4f}\")\n",
    "print(f\"(c) bootstrap Var(median) = {var_median_boot:.4f}\\n\")\n",
    "\n",
    "prec_mean   = 1 / var_mean_boot\n",
    "prec_median = 1 / var_median_boot\n",
    "print(f\"(d) precision: 1/Var(mean)   = {prec_mean:.4f}\")\n",
    "print(f\"    precision: 1/Var(median) = {prec_median:.4f}\")\n"
   ]
  }
 ],
 "metadata": {
  "kernelspec": {
   "display_name": "base",
   "language": "python",
   "name": "python3"
  },
  "language_info": {
   "codemirror_mode": {
    "name": "ipython",
    "version": 3
   },
   "file_extension": ".py",
   "mimetype": "text/x-python",
   "name": "python",
   "nbconvert_exporter": "python",
   "pygments_lexer": "ipython3",
   "version": "3.11.5"
  }
 },
 "nbformat": 4,
 "nbformat_minor": 5
}
